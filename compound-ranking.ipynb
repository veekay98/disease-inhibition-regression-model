{
 "cells": [
  {
   "cell_type": "code",
   "execution_count": 2,
   "id": "initial_id",
   "metadata": {
    "collapsed": true,
    "ExecuteTime": {
     "end_time": "2024-04-11T20:23:10.229178Z",
     "start_time": "2024-04-11T20:22:12.927303Z"
    }
   },
   "outputs": [
    {
     "name": "stderr",
     "output_type": "stream",
     "text": [
      "/var/folders/dp/mpcqdc196cggd8ky2j83g12c0000gn/T/ipykernel_14452/2275266367.py:7: DtypeWarning: Columns (4) have mixed types. Specify dtype option on import or set low_memory=False.\n",
      "  df = pd.read_csv('morg3.csv')\n"
     ]
    },
    {
     "name": "stdout",
     "output_type": "stream",
     "text": [
      "0:\tlearn: 0.0000000\ttotal: 147ms\tremaining: 14.5s\n",
      "10:\tlearn: 0.0000000\ttotal: 1.03s\tremaining: 8.33s\n",
      "20:\tlearn: 0.0000000\ttotal: 1.91s\tremaining: 7.18s\n",
      "30:\tlearn: 0.0000000\ttotal: 2.72s\tremaining: 6.06s\n",
      "40:\tlearn: 0.0000000\ttotal: 3.53s\tremaining: 5.08s\n",
      "50:\tlearn: 0.0000000\ttotal: 4.36s\tremaining: 4.19s\n",
      "60:\tlearn: 0.0000000\ttotal: 5.18s\tremaining: 3.31s\n",
      "70:\tlearn: 0.0000000\ttotal: 6.01s\tremaining: 2.45s\n",
      "80:\tlearn: 0.0000000\ttotal: 6.82s\tremaining: 1.6s\n",
      "90:\tlearn: 0.0000000\ttotal: 7.63s\tremaining: 754ms\n",
      "99:\tlearn: 0.0000000\ttotal: 8.36s\tremaining: 0us\n",
      "Indices of Top 25 Compounds based on Direct Ranking:\n",
      "[    0 28597 28598 28599 28600 28601 28602 28603 28596 28604 28606 28607\n",
      " 28608 28609 28610 28611 28612 28605 28595 28594 28593 28576 28577 28578\n",
      " 28579]\n"
     ]
    }
   ],
   "source": [
    "import pandas as pd\n",
    "import numpy as np\n",
    "from catboost import Pool, CatBoostRanker\n",
    "from sklearn.model_selection import train_test_split\n",
    "\n",
    "# Load your dataset\n",
    "df = pd.read_csv('morg3.csv')\n",
    "\n",
    "# Preprocessing: Ensuring the target variable is non-negative\n",
    "df['MtbH37Rv-Inhibition'] = df['MtbH37Rv-Inhibition'].apply(lambda x: max(x, 0))\n",
    "\n",
    "# Selecting features and target\n",
    "X = df.select_dtypes(include=[np.number]).drop(columns=['MtbH37Rv-Inhibition'])\n",
    "y = df['MtbH37Rv-Inhibition']\n",
    "\n",
    "# Generate a unique group id for each compound (for illustration)\n",
    "# In a real scenario, these should be meaningful groups\n",
    "group_id = np.arange(len(df))\n",
    "\n",
    "# Splitting the dataset\n",
    "X_train, X_test, y_train, y_test, group_id_train, group_id_test = train_test_split(X, y, group_id, test_size=0.2, random_state=42)\n",
    "\n",
    "# Prepare the Pool objects\n",
    "train_pool = Pool(data=X_train, label=y_train, group_id=group_id_train)\n",
    "test_pool = Pool(data=X_test, label=y_test, group_id=group_id_test)\n",
    "\n",
    "# Initialize the CatBoostRanker\n",
    "ranker = CatBoostRanker(\n",
    "    iterations=100,\n",
    "    learning_rate=0.1,\n",
    "    depth=6,\n",
    "    loss_function='PairLogitPairwise',\n",
    "    verbose=10,\n",
    "    random_seed=42\n",
    ")\n",
    "\n",
    "# Train the model\n",
    "ranker.fit(train_pool)\n",
    "\n",
    "# Make predictions on the test set\n",
    "predictions = ranker.predict(test_pool)\n",
    "\n",
    "# Ranking the test set based on the predictions\n",
    "# Note: Higher scores imply higher ranks\n",
    "ranked_indices = np.argsort(-predictions)  # Descending order\n",
    "top_25_indices = ranked_indices[:25]\n",
    "top_25_compounds = X_test.iloc[top_25_indices]\n",
    "\n",
    "print(\"Indices of Top 25 Compounds based on Direct Ranking:\")\n",
    "print(top_25_indices)\n",
    "\n",
    "# If you want to display more information about the top compounds,\n",
    "# ensure to maintain a reference to the original compound identifiers in your dataset.\n"
   ]
  }
 ],
 "metadata": {
  "kernelspec": {
   "display_name": "Python 3",
   "language": "python",
   "name": "python3"
  },
  "language_info": {
   "codemirror_mode": {
    "name": "ipython",
    "version": 2
   },
   "file_extension": ".py",
   "mimetype": "text/x-python",
   "name": "python",
   "nbconvert_exporter": "python",
   "pygments_lexer": "ipython2",
   "version": "2.7.6"
  }
 },
 "nbformat": 4,
 "nbformat_minor": 5
}
